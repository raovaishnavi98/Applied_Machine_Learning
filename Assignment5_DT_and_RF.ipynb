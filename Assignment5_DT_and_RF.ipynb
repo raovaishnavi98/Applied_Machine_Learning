{
  "cells": [
    {
      "cell_type": "markdown",
      "metadata": {},
      "source": [
        "# Assignment 5\n",
        "## Decision Tree and Random Forest"
      ]
    },
    {
      "cell_type": "code",
      "execution_count": 1,
      "metadata": {
        "id": "l6GJoJVYTLQ9"
      },
      "outputs": [],
      "source": [
        "#↨ import libraries\n",
        "import pandas as pd\n",
        "import matplotlib.pyplot as plt\n",
        "import numpy as np"
      ]
    },
    {
      "cell_type": "code",
      "execution_count": 2,
      "metadata": {
        "id": "RCjgYKoETgYg"
      },
      "outputs": [],
      "source": [
        "data = pd.read_csv('Position_Salaries.csv')\n",
        "X = data.iloc[:,-2].values\n",
        "Y = data.iloc[:,-1].values"
      ]
    },
    {
      "cell_type": "code",
      "execution_count": 3,
      "metadata": {
        "id": "sjt2muaoUoxr"
      },
      "outputs": [],
      "source": [
        "X = X.reshape(X.shape[0],1)"
      ]
    },
    {
      "cell_type": "code",
      "execution_count": 4,
      "metadata": {
        "colab": {
          "base_uri": "https://localhost:8080/"
        },
        "id": "SfyIcADqUKxc",
        "outputId": "c4aa277f-72ef-4517-f4c4-5f88c7283943"
      },
      "outputs": [
        {
          "data": {
            "text/plain": [
              "array([150000.])"
            ]
          },
          "execution_count": 4,
          "metadata": {},
          "output_type": "execute_result"
        }
      ],
      "source": [
        "from sklearn import tree\n",
        "\n",
        "clf = tree.DecisionTreeRegressor()\n",
        "clf = clf.fit(X,Y)\n",
        "clf.predict([[6.5]])"
      ]
    },
    {
      "cell_type": "code",
      "execution_count": 5,
      "metadata": {
        "colab": {
          "base_uri": "https://localhost:8080/",
          "height": 294
        },
        "id": "f0S-tOZDWwSI",
        "outputId": "482c2ce2-6af8-4e24-bbf1-8a88198722c6"
      },
      "outputs": [
        {
          "data": {
            "text/plain": [
              "<matplotlib.collections.PathCollection at 0x208cb0e83a0>"
            ]
          },
          "execution_count": 5,
          "metadata": {},
          "output_type": "execute_result"
        },
        {
          "data": {
            "image/png": "[encoded data removed]",
            "text/plain": [
              "<Figure size 432x288 with 1 Axes>"
            ]
          },
          "metadata": {
            "needs_background": "light"
          },
          "output_type": "display_data"
        }
      ],
      "source": [
        "plt.scatter(X,Y,color = 'b')\n",
        "plt.scatter([[6.5]],clf.predict([[6.5]]), color = 'r')"
      ]
    },
    {
      "cell_type": "code",
      "execution_count": 6,
      "metadata": {
        "colab": {
          "base_uri": "https://localhost:8080/"
        },
        "id": "0XqPtpUeWIDq",
        "outputId": "3b41ec9b-be1d-4713-8beb-83b9da23be96"
      },
      "outputs": [
        {
          "data": {
            "text/plain": [
              "array([167000.])"
            ]
          },
          "execution_count": 6,
          "metadata": {},
          "output_type": "execute_result"
        }
      ],
      "source": [
        "# random forest \n",
        "from sklearn.ensemble import RandomForestRegressor\n",
        "\n",
        "reg = RandomForestRegressor(n_estimators = 10, random_state = 0)\n",
        "reg.fit(X,Y)\n",
        "reg.predict([[6.5]])"
      ]
    },
    {
      "cell_type": "code",
      "execution_count": 7,
      "metadata": {
        "colab": {
          "base_uri": "https://localhost:8080/",
          "height": 295
        },
        "id": "qovHzD0AU5Ww",
        "outputId": "9c137210-5d71-4fe3-ab9f-da85818bde6d"
      },
      "outputs": [
        {
          "data": {
            "image/png": "[encoded data removed]",
            "text/plain": [
              "<Figure size 432x288 with 1 Axes>"
            ]
          },
          "metadata": {
            "needs_background": "light"
          },
          "output_type": "display_data"
        }
      ],
      "source": [
        "range = np.arange(min(X),max(X),0.01)\n",
        "range = range.reshape(len(range),1)\n",
        "plt.scatter(X,Y, color ='r')\n",
        "plt.plot(range,reg.predict(range),color = 'b')\n",
        "plt.title('Random Forest')\n",
        "plt.xlabel('Job level')\n",
        "plt.ylabel('Expected salary')\n",
        "plt.show()"
      ]
    }
  ],
  "metadata": {
    "colab": {
      "provenance": []
    },
    "kernelspec": {
      "display_name": "Python 3.10.7 64-bit (microsoft store)",
      "language": "python",
      "name": "python3"
    },
    "language_info": {
      "codemirror_mode": {
        "name": "ipython",
        "version": 3
      },
      "file_extension": ".py",
      "mimetype": "text/x-python",
      "name": "python",
      "nbconvert_exporter": "python",
      "pygments_lexer": "ipython3",
      "version": "3.10.7"
    },
    "vscode": {
      "interpreter": {
        "hash": "66f804da07f0f556d77bc3269dc5bb19edf020422864031af2885e5ff55f9079"
      }
    }
  },
  "nbformat": 4,
  "nbformat_minor": 0
}
